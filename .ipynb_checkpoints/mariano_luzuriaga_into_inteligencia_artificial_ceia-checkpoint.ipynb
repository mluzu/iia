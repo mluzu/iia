{
 "cells": [
  {
   "cell_type": "markdown",
   "metadata": {
    "id": "MOSiDRd9Niu3"
   },
   "source": [
    "## Introducción a la Inteligencia Artificial\n",
    "## Carrera de Especialización en Inteligencia Artificial\n",
    "\n",
    "\n",
    "---\n",
    "\n",
    "\n",
    "# *Resolución de trabajos prácticos*\n",
    "\n",
    "# Mariano A. de Luzuriaga\n",
    "\n"
   ]
  },
  {
   "cell_type": "code",
   "execution_count": 5,
   "metadata": {
    "colab": {
     "base_uri": "https://localhost:8080/"
    },
    "executionInfo": {
     "elapsed": 3304,
     "status": "ok",
     "timestamp": 1619827887798,
     "user": {
      "displayName": "mariano luzuriaga",
      "photoUrl": "",
      "userId": "14931355224050134646"
     },
     "user_tz": 180
    },
    "id": "wowVOYnhNCvl",
    "outputId": "4432c5e8-3db1-4f4b-b18a-cf7ae0523c17"
   },
   "outputs": [
    {
     "name": "stdout",
     "output_type": "stream",
     "text": [
      "Defaulting to user installation because normal site-packages is not writeable\n",
      "Requirement already satisfied: numpy in /opt/anaconda3/lib/python3.8/site-packages (1.19.2)\n"
     ]
    }
   ],
   "source": [
    "!pip install numpy"
   ]
  },
  {
   "cell_type": "code",
   "execution_count": 1,
   "metadata": {
    "executionInfo": {
     "elapsed": 1036,
     "status": "ok",
     "timestamp": 1619827888840,
     "user": {
      "displayName": "mariano luzuriaga",
      "photoUrl": "",
      "userId": "14931355224050134646"
     },
     "user_tz": 180
    },
    "id": "aE6jyC1EP5DK"
   },
   "outputs": [],
   "source": [
    "import numpy as np"
   ]
  },
  {
   "cell_type": "code",
   "execution_count": null,
   "metadata": {},
   "outputs": [],
   "source": []
  },
  {
   "cell_type": "code",
   "execution_count": 64,
   "metadata": {},
   "outputs": [
    {
     "name": "stdout",
     "output_type": "stream",
     "text": [
      "l0: [2. 5. 1.]\n",
      "l1: [3. 8. 2.]\n",
      "l2: [1.73205081 5.83095189 1.41421356]\n",
      "linf: [1. 5. 1.]\n"
     ]
    }
   ],
   "source": [
    "# ejercicio 1\n",
    "\n",
    "matriz = np.array([[1, 1, 1],[5, 0, 3],[0, 1, 1]])\n",
    "\n",
    "def norma_l0(m):\n",
    "    size = len(m)\n",
    "    resultado = np.empty(size)\n",
    "    for fila in m:\n",
    "        count = 0\n",
    "        i = 0\n",
    "        for e in fila:\n",
    "            nocero =  0 if e == 0 else 1\n",
    "            count = count + nocero\n",
    "        resultado[i] = count\n",
    "        i = i + 1\n",
    "    return resultado\n",
    "\n",
    "\n",
    "def norma_l1(m):\n",
    "    size = len(m)\n",
    "    resultado = np.empty(size)\n",
    "    for i in range(size):\n",
    "        resultado[i] = sum(m[i])\n",
    "    return resultado\n",
    "\n",
    "                \n",
    "\n",
    "def norma_l2(m):\n",
    "    size = len(m)\n",
    "    resultado = np.empty(size)\n",
    "    i = 0\n",
    "    for fila in m:\n",
    "        suma_cuadrados = 0\n",
    "        for e in fila:\n",
    "            suma_cuadrados = suma_cuadrados + e**2\n",
    "        resultado[i] = np.sqrt(suma_cuadrados)\n",
    "        i = i + 1\n",
    "    return resultado\n",
    "\n",
    "\n",
    "def norma_linf(m):\n",
    "    size = len(m)\n",
    "    resultado = np.empty(size)\n",
    "    i = 0\n",
    "    for fila in m:\n",
    "        maximo = -1\n",
    "        for e in fila:\n",
    "            maximo = max(maximo, abs(e))\n",
    "        resultado[i] = maximo\n",
    "        i = i + 1\n",
    "    return resultado\n",
    "\n",
    "print(f'l0: {norma_l0(matriz)}')\n",
    "print(f'l1: {norma_l1(matriz)}')\n",
    "print(f'l2: {norma_l2(matriz)}')\n",
    "print(f'linf: {norma_linf(matriz)}')"
   ]
  },
  {
   "cell_type": "code",
   "execution_count": 40,
   "metadata": {},
   "outputs": [
    {
     "data": {
      "text/plain": [
       "3"
      ]
     },
     "execution_count": 40,
     "metadata": {},
     "output_type": "execute_result"
    }
   ],
   "source": [
    "# ejercicio 2\n",
    "\n",
    "\n",
    "def ordenar(v):\n",
    "    \n",
    "    \n",
    "vec = norma_l2(matriz)\n",
    "\n",
    "print(f'normas ordenadas de {matriz} -> {ordenar(vec)}')"
   ]
  },
  {
   "cell_type": "code",
   "execution_count": 2,
   "metadata": {},
   "outputs": [
    {
     "name": "stdout",
     "output_type": "stream",
     "text": [
      "0\n"
     ]
    }
   ],
   "source": [
    "e = 0\n",
    "nocero =  0 if e == 0 else 1\n",
    "print(nocero)"
   ]
  },
  {
   "cell_type": "code",
   "execution_count": 6,
   "metadata": {},
   "outputs": [
    {
     "data": {
      "text/plain": [
       "array([3, 3, 3])"
      ]
     },
     "execution_count": 6,
     "metadata": {},
     "output_type": "execute_result"
    }
   ],
   "source": [
    "a = np.array([[1,1,1],[1,1,1],[1,1,1]])\n",
    "b = np.sum(a, axis=0)\n",
    "b"
   ]
  },
  {
   "cell_type": "code",
   "execution_count": null,
   "metadata": {},
   "outputs": [],
   "source": []
  }
 ],
 "metadata": {
  "colab": {
   "authorship_tag": "ABX9TyMQLf1S3B9j2kk2A/v3P+4s",
   "collapsed_sections": [],
   "name": "mariano_luzuriaga_into_inteligencia_artificial_ceia.ipynb",
   "provenance": []
  },
  "kernelspec": {
   "display_name": "Python 3",
   "language": "python",
   "name": "python3"
  },
  "language_info": {
   "codemirror_mode": {
    "name": "ipython",
    "version": 3
   },
   "file_extension": ".py",
   "mimetype": "text/x-python",
   "name": "python",
   "nbconvert_exporter": "python",
   "pygments_lexer": "ipython3",
   "version": "3.8.5"
  }
 },
 "nbformat": 4,
 "nbformat_minor": 1
}
