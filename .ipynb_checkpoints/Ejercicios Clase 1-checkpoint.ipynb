{
 "cells": [
  {
   "cell_type": "markdown",
   "metadata": {
    "id": "MOSiDRd9Niu3"
   },
   "source": [
    "## Introducción a la Inteligencia Artificial\n",
    "## Carrera de Especialización en Inteligencia Artificial\n",
    "\n",
    "\n",
    "---\n",
    "\n",
    "\n",
    "# *TP clase 1*\n",
    "\n",
    "# Mariano A. de Luzuriaga\n",
    "\n"
   ]
  },
  {
   "cell_type": "code",
   "execution_count": 2,
   "metadata": {
    "executionInfo": {
     "elapsed": 1036,
     "status": "ok",
     "timestamp": 1619827888840,
     "user": {
      "displayName": "mariano luzuriaga",
      "photoUrl": "",
      "userId": "14931355224050134646"
     },
     "user_tz": 180
    },
    "id": "aE6jyC1EP5DK"
   },
   "outputs": [],
   "source": [
    "import numpy as np"
   ]
  },
  {
   "cell_type": "code",
   "execution_count": 2,
   "metadata": {
    "scrolled": true
   },
   "outputs": [
    {
     "name": "stdout",
     "output_type": "stream",
     "text": [
      "l0: [3 2 2]\n",
      "l1: [3. 8. 2.]\n",
      "l2: [1.73205081 5.83095189 1.41421356]\n",
      "linf: [1 5 1]\n"
     ]
    }
   ],
   "source": [
    "# ejercicio 1\n",
    "matriz = np.array([[1, 1, 1],[5, 0, 3],[0, 1, 1]])\n",
    "\n",
    "\n",
    "def norma_l0(m):\n",
    "    return np.count_nonzero(m, axis=1)\n",
    "\n",
    "def norma_lp(m, p):\n",
    "    if p == 0:\n",
    "        raise Exception(\"El valor de p debe ser mayor a 0\")\n",
    "    return np.sum(np.abs(m)**p, axis=1)**(1/p)\n",
    "\n",
    "\n",
    "def norma_linf(m):\n",
    "    return np.max(m, axis=1)\n",
    "\n",
    "print(f'l0: {norma_l0(matriz)}')\n",
    "print(f'l1: {norma_lp(matriz, 1)}')\n",
    "print(f'l2: {norma_lp(matriz, 2)}')\n",
    "print(f'linf: {norma_linf(matriz)}')"
   ]
  },
  {
   "cell_type": "code",
   "execution_count": 3,
   "metadata": {},
   "outputs": [
    {
     "name": "stdout",
     "output_type": "stream",
     "text": [
      "Matriz original -> \n",
      " [[ 2  7  3]\n",
      " [ 2 11 17]\n",
      " [ 1  2  1]] \n",
      "Matriz ordenada por normas de sus filas -> \n",
      " [[ 2 11 17]\n",
      " [ 2  7  3]\n",
      " [ 1  2  1]]\n"
     ]
    }
   ],
   "source": [
    "# ejercicio 2\n",
    "matriz = np.array([[2, 7, 3],[2, 11, 17],[1, 2, 1]])\n",
    "\n",
    "\n",
    "def ordenar_por_normas(m):\n",
    "    norms = norma_lp(m, 2)\n",
    "    indices =  np.argsort(norms)[::-1]\n",
    "    return m.take(indices, axis=0)\n",
    "    \n",
    "    \n",
    "print(f'Matriz original -> \\n {matriz} \\nMatriz ordenada por normas de sus filas -> \\n {ordenar_por_normas(matriz)}')"
   ]
  },
  {
   "cell_type": "code",
   "execution_count": 4,
   "metadata": {},
   "outputs": [],
   "source": [
    "# ejercicio 3\n"
   ]
  },
  {
   "cell_type": "code",
   "execution_count": 5,
   "metadata": {},
   "outputs": [
    {
     "name": "stdout",
     "output_type": "stream",
     "text": [
      "Precision: 0.5 \n",
      "Recall: 0.5 \n",
      "Accuracy: 0.4\n"
     ]
    }
   ],
   "source": [
    "# ejercicio 4\n",
    "\n",
    "truth = np.array([1,1,0,1,1,1,0,0,0,1], dtype=int)\n",
    "prediction = np.array([1,1,1,1,0,0,1,1,0,0], dtype=int)\n",
    "\n",
    "\n",
    "\n",
    "tp = np.sum((truth==1) & (prediction==1))\n",
    "fp = np.sum((truth==0) & (prediction==1))\n",
    "tn = np.sum((truth==0) & (prediction==0))\n",
    "fn = np.sum((truth==1) & (prediction==0))\n",
    "\n",
    "precision = tp / (tp + fp)\n",
    "recall = tp / (tp + fn)\n",
    "accuracy = (tp + tn) / (tp + tn + fp +fn)\n",
    "\n",
    "print(f'Precision: {precision} \\nRecall: {recall} \\nAccuracy: {accuracy}')\n"
   ]
  },
  {
   "cell_type": "code",
   "execution_count": 6,
   "metadata": {
    "scrolled": false
   },
   "outputs": [
    {
     "name": "stdout",
     "output_type": "stream",
     "text": [
      "query_id:1 - presision: 0.5\n",
      "query_id:2 - presision: 0.3333333333333333\n",
      "query_id:3 - presision: 0\n",
      "query_id:4 - presision: 0.5\n"
     ]
    }
   ],
   "source": [
    "# ejercicio 5\n",
    "\n",
    "from collections import namedtuple\n",
    "\n",
    "q_id = np.array([1, 1, 1, 1, 2, 2, 2, 3, 3, 3, 3, 3, 4, 4, 4, 4])         \n",
    "predicted_rank = np.array([0, 1, 2, 3, 0, 1, 2, 0, 1, 2, 3, 4, 0, 1, 2, 3])  \n",
    "truth_relevance = np.array([True, False, True, False, True, True, True, False, False, False, False, False, True, False, False, True]) \n",
    "\n",
    "precision = []\n",
    "q_ = np.unique(q_id)\n",
    "score = namedtuple(\"precision\", \"query_id score\")\n",
    "\n",
    "for qid in q_:\n",
    "    q_idx = np.where(q_id==qid)\n",
    "    q_rel = np.take(truth_relevance, q_idx)\n",
    "    relevants = np.count_nonzero(q_rel)\n",
    "    p = len(q_rel) / relevants if relevants else 0 \n",
    "    np.count_nonzero(q_rel)\n",
    "    precision.append(score(qid, p))\n",
    "\n",
    "for p in precision:\n",
    "    print(f'query_id:{p.query_id} - presision: {p.score}')\n"
   ]
  },
  {
   "cell_type": "code",
   "execution_count": 7,
   "metadata": {
    "scrolled": true
   },
   "outputs": [
    {
     "name": "stdout",
     "output_type": "stream",
     "text": [
      "Distancia de X respecto centroide [1 0 0]: [ 3.60555128  8.36660027 13.45362405]\n",
      "Distancia de X respecto centroide [0 1 1]: [ 2.44948974  7.54983444 12.72792206]\n"
     ]
    }
   ],
   "source": [
    "# ejercicio 6\n",
    "\n",
    "X = np.array([[1, 2, 3], [4, 5, 6], [7, 8, 9]])\n",
    "C = np.array([[1, 0, 0], [0, 1, 1]])\n",
    "\n",
    "X1 = norma_lp(X - C[0], 2)\n",
    "X2 = norma_lp(X - C[1], 2)\n",
    "\n",
    "print(f'Distancia de X respecto centroide {C[0]}: {X1}')\n",
    "print(f'Distancia de X respecto centroide {C[1]}: {X2}')"
   ]
  },
  {
   "cell_type": "code",
   "execution_count": 8,
   "metadata": {},
   "outputs": [
    {
     "name": "stdout",
     "output_type": "stream",
     "text": [
      "[1 2 3] está en cluster 1\n",
      "[4 5 6] está en cluster 1\n",
      "[7 8 9] está en cluster 1\n"
     ]
    }
   ],
   "source": [
    "#ejercicio 7\n",
    "\n",
    "distancias = np.array([X1, X2])\n",
    "a = np.argmin(distancias, axis=0)\n",
    "\n",
    "for i in range(len(a)):\n",
    "    print(f'{X[i]} está en cluster {a[i]}')\n",
    "\n"
   ]
  },
  {
   "cell_type": "code",
   "execution_count": 9,
   "metadata": {},
   "outputs": [
    {
     "data": {
      "image/png": "[encoded data removed]",
      "text/plain": [
       "<Figure size 432x288 with 1 Axes>"
      ]
     },
     "metadata": {
      "needs_background": "light"
     },
     "output_type": "display_data"
    },
    {
     "data": {
      "image/png": "[encoded data removed]",
      "text/plain": [
       "<Figure size 432x288 with 1 Axes>"
      ]
     },
     "metadata": {
      "needs_background": "light"
     },
     "output_type": "display_data"
    }
   ],
   "source": [
    "# ejercicio 8\n",
    "import matplotlib.pyplot as plt\n",
    "\n",
    "def k_means(k: int, epochs: int, points):\n",
    "\n",
    "    # inicilización\n",
    "    set_size, ndim = points.shape\n",
    "    previous_step = np.empty((k, ndim))\n",
    "    clusters = []\n",
    "    \n",
    "    # obtenemos k centroides aleatorios\n",
    "    rng = np.random.default_rng(12345)\n",
    "    centroids_idx = rng.integers(low=0, high=set_size, size=k)  \n",
    "    centroids = np.take(points, centroids_idx, axis=0)\n",
    "\n",
    "\n",
    "    for i in range(epochs):\n",
    "        \n",
    "        # obtenemos las distancias de los puntos a cada centroide\n",
    "        distancias = np.sqrt(np.sum((centroids[:, None] - points)**2, axis=2))\n",
    "        \n",
    "        # clasificamos cada punto por el centroide respecto al cual tiene distancia mínima  \n",
    "        points_to_clusters = np.argmin(distancias, axis=0)\n",
    "        \n",
    "        # recalculamos los centroides y separamos los puntos en clusters\n",
    "        actual_clusters = []\n",
    "        for i in range(k):\n",
    "            points_idx = np.where(points_to_clusters==i)\n",
    "            points_in_cluster = np.take(points, points_idx, axis=0)[0]\n",
    "            centroids[i] = np.mean(points_in_cluster, axis=1)[0]\n",
    "            actual_clusters.append(points_in_cluster)\n",
    "        \n",
    "        # guardo los clusters en una variable\n",
    "        clusters = actual_clusters\n",
    "    \n",
    "    return centroids, clusters\n",
    "\n",
    "\n",
    "\n",
    "\n",
    "# Prueba en 2D con 3 clusters y 200 puntos\n",
    "N = 200\n",
    "data1 = np.random.randn(N//3,2) + np.array([5,6])\n",
    "data2 = np.random.randn(N//3,2) + np.array([-5,-6])\n",
    "data3 = np.random.randn(N//3,2) + np.array([-10,3])\n",
    "data = np.concatenate((data1, data2, data3))\n",
    "\n",
    "centroids, clusters = k_means(k=3, epochs=10, points=data)\n",
    "\n",
    "c1, c2, c3 = clusters\n",
    "\n",
    "plt.scatter(x=c1[:,0], y=c1[:,1], color='blue')\n",
    "plt.scatter(x=c2[:,0], y=c2[:,1], color='green')\n",
    "plt.scatter(x=c3[:,0], y=c3[:,1], color='yellow')\n",
    "plt.scatter(x=centroids[:,0], y=centroids[:,1], color='red', s=100)\n",
    "plt.show()\n",
    "\n",
    "\n",
    "\n",
    "\n",
    "# Prueba en 3D con 5 clusters y 1000 puntos\n",
    "N = 1000\n",
    "data1 = np.random.rand(N,3) + np.array([5, 6, 10])\n",
    "data2 = np.random.rand(N,3) + np.array([10, 12, 20])\n",
    "data3 = np.random.rand(N,3) + np.array([-2, -6, -8 ])\n",
    "data4 = np.random.rand(N,3) + np.array([-10, 3, 6])\n",
    "data5 = np.random.rand(N,3) + np.array([14, -7, 10])\n",
    "\n",
    "data = np.concatenate((data1, data2, data3, data4, data5))\n",
    "\n",
    "centroids, clusters = k_means(k=5, epochs=10, points=data)\n",
    "\n",
    "c1, c2, c3, c4, c5 = clusters\n",
    "\n",
    "fig = plt.figure()\n",
    "ax = fig.add_subplot(projection='3d')\n",
    "ax.scatter(xs=c1[:,0], ys=c1[:,1], zs=c1[:,2], color='blue')\n",
    "ax.scatter(xs=c2[:,0], ys=c2[:,1], zs=c2[:,2], color='green')\n",
    "ax.scatter(xs=c3[:,0], ys=c3[:,1], zs=c3[:,2], color='yellow')\n",
    "ax.scatter(xs=c4[:,0], ys=c4[:,1], zs=c4[:,2], color='orange')\n",
    "ax.scatter(xs=c5[:,0], ys=c5[:,1], zs=c5[:,2], color='black')\n",
    "ax.scatter(xs=centroids[:,0], ys=centroids[:,1], zs=centroids[:,2], color='red', s=100)\n",
    "plt.show()"
   ]
  },
  {
   "cell_type": "code",
   "execution_count": 23,
   "metadata": {},
   "outputs": [
    {
     "name": "stdout",
     "output_type": "stream",
     "text": [
      "(1, 2959, 4., 1425941601)\n"
     ]
    }
   ],
   "source": [
    "# ejercicio 10\n",
    "import numpy as np\n",
    "import csv\n",
    "import pickle\n",
    "import os\n",
    "\n",
    "class Rating:\n",
    "    _instance = None\n",
    "    _rating_type = np.dtype([('userId', 'i8'),('movieId', 'i8'), ('rating', 'f8'), ('timestamp', 'i8')])\n",
    "\n",
    "    def __new__(cls, fileName):\n",
    "        if cls._instance is None:\n",
    "            return super().__new__(cls)\n",
    "        else:\n",
    "            return cls._instance\n",
    "    \n",
    "    def __init__(self, fileName):\n",
    "        self.ratings = self.load_data(fileName)\n",
    "        Rating._instance = self\n",
    "    \n",
    "    def __getitem__(self, idx):\n",
    "        return self.ratings[idx]\n",
    "        \n",
    "    def __len__(self):\n",
    "        return len(self.ratings)\n",
    "    \n",
    "    def load_data(self, fileName):\n",
    "        \n",
    "        if os.path.exists('data.pkl'):\n",
    "            return self.load_pickled()\n",
    "\n",
    "        filename = os.path.basename(fileName)\n",
    "        if filename.endswith('.csv'):\n",
    "            self.serialize(fileName)\n",
    "        else:\n",
    "            raise NotImplementedError('File format not supported')\n",
    "        \n",
    "        return self.load_pickled()\n",
    "\n",
    "    def serialize(self, fileName):\n",
    "        data = []\n",
    "        with open(fileName, 'r') as source, open('data.pkl', 'wb') as dest:\n",
    "            csvreader = csv.reader(source)\n",
    "            _ = next(csvreader)\n",
    "            for line in csvreader:\n",
    "                row = (int(line[0]), int(line[1]), float(line[2]), int(line[3]))\n",
    "                data.append(row)\n",
    "            pickle.dump(data, dest)\n",
    "    \n",
    "    def load_pickled(self):\n",
    "        pkl_file = open('data.pkl','rb')\n",
    "        data = pickle.load(pkl_file)\n",
    "        pkl_file.close()\n",
    "        return np.fromiter(data, Rating._rating_type)\n",
    "        \n",
    "    \n",
    "ratings = Rating('ratings_truncated.csv') \n",
    "print(ratings[8])"
   ]
  },
  {
   "cell_type": "code",
   "execution_count": null,
   "metadata": {},
   "outputs": [],
   "source": []
  },
  {
   "cell_type": "code",
   "execution_count": null,
   "metadata": {},
   "outputs": [],
   "source": []
  }
 ],
 "metadata": {
  "colab": {
   "authorship_tag": "ABX9TyMQLf1S3B9j2kk2A/v3P+4s",
   "collapsed_sections": [],
   "name": "mariano_luzuriaga_into_inteligencia_artificial_ceia.ipynb",
   "provenance": []
  },
  "kernelspec": {
   "display_name": "Python 3",
   "language": "python",
   "name": "python3"
  },
  "language_info": {
   "codemirror_mode": {
    "name": "ipython",
    "version": 3
   },
   "file_extension": ".py",
   "mimetype": "text/x-python",
   "name": "python",
   "nbconvert_exporter": "python",
   "pygments_lexer": "ipython3",
   "version": "3.8.5"
  }
 },
 "nbformat": 4,
 "nbformat_minor": 1
}
