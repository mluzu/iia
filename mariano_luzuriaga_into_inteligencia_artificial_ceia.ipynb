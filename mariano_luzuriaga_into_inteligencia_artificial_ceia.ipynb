{
 "cells": [
  {
   "cell_type": "markdown",
   "metadata": {
    "id": "MOSiDRd9Niu3"
   },
   "source": [
    "## Introducción a la Inteligencia Artificial\n",
    "## Carrera de Especialización en Inteligencia Artificial\n",
    "\n",
    "\n",
    "---\n",
    "\n",
    "\n",
    "# *Resolución de trabajos prácticos*\n",
    "\n",
    "# Mariano A. de Luzuriaga\n",
    "\n"
   ]
  },
  {
   "cell_type": "code",
   "execution_count": 72,
   "metadata": {
    "executionInfo": {
     "elapsed": 1036,
     "status": "ok",
     "timestamp": 1619827888840,
     "user": {
      "displayName": "mariano luzuriaga",
      "photoUrl": "",
      "userId": "14931355224050134646"
     },
     "user_tz": 180
    },
    "id": "aE6jyC1EP5DK"
   },
   "outputs": [],
   "source": [
    "import numpy as np"
   ]
  },
  {
   "cell_type": "code",
   "execution_count": 125,
   "metadata": {
    "scrolled": true
   },
   "outputs": [
    {
     "name": "stdout",
     "output_type": "stream",
     "text": [
      "l1: [3. 8. 2.]\n",
      "l2: [1.73205081 5.83095189 1.41421356]\n",
      "linf: [1 5 1]\n"
     ]
    }
   ],
   "source": [
    "# ejercicio 1\n",
    "matriz = np.array([[1, 1, 1],[5, 0, 3],[0, 1, 1]])\n",
    "\n",
    "\n",
    "def norma_l0(m):\n",
    "    not_zero = lambda x : 1 if x else 0\n",
    "    return np.sum(np.any(m), axis=1)\n",
    "\n",
    "def norma_lp(m, p):\n",
    "    if p == 0:\n",
    "        raise Exception(\"El valor de p debe ser mayor a 0\")\n",
    "    return np.sum(np.abs(m)**p, axis=1)**(1/p)\n",
    "\n",
    "\n",
    "def norma_linf(m):\n",
    "    return np.max(m, axis=1)\n",
    "\n",
    "#print(f'l0: {norma_l0(matriz)}')\n",
    "print(f'l1: {norma_lp(matriz, 1)}')\n",
    "print(f'l2: {norma_lp(matriz, 2)}')\n",
    "print(f'linf: {norma_linf(matriz)}')"
   ]
  },
  {
   "cell_type": "code",
   "execution_count": 74,
   "metadata": {},
   "outputs": [
    {
     "name": "stdout",
     "output_type": "stream",
     "text": [
      "[1 0 2]\n",
      "Matriz \n",
      " [[ 2  7  3]\n",
      " [ 2 11 17]\n",
      " [ 1  2  1]] \n",
      " ordenada por normas de sus filas -> \n",
      " [[ 2 11 17]\n",
      " [ 2  7  3]\n",
      " [ 1  2  1]]\n"
     ]
    }
   ],
   "source": [
    "# ejercicio 2\n",
    "matriz = np.array([[2, 7, 3],[2, 11, 17],[1, 2, 1]])\n",
    "\n",
    "\n",
    "def ordenar_por_normas(m):\n",
    "    norms = norma_lp(m, 2)\n",
    "    indices =  np.argsort(norms)[::-1]\n",
    "    print(indices)\n",
    "    return m.take(indices, axis=0)\n",
    "    \n",
    "    \n",
    "print(f'Matriz \\n {matriz} \\n ordenada por normas de sus filas -> \\n {ordenar_por_normas(matriz)}')"
   ]
  },
  {
   "cell_type": "code",
   "execution_count": 75,
   "metadata": {},
   "outputs": [],
   "source": [
    "# ejercicio 3\n"
   ]
  },
  {
   "cell_type": "code",
   "execution_count": 115,
   "metadata": {},
   "outputs": [
    {
     "name": "stdout",
     "output_type": "stream",
     "text": [
      "Precision: 0.5 \n",
      "Recall: 0.5 \n",
      "Accuracy: 0.4\n"
     ]
    }
   ],
   "source": [
    "# ejercicio 4\n",
    "\n",
    "truth = np.array([1,1,0,1,1,1,0,0,0,1], dtype=int)\n",
    "prediction = np.array([1,1,1,1,0,0,1,1,0,0], dtype=int)\n",
    "\n",
    "\n",
    "\n",
    "tp = np.sum((truth==1) & (prediction==1))\n",
    "fp = np.sum((truth==0) & (prediction==1))\n",
    "tn = np.sum((truth==0) & (prediction==0))\n",
    "fn = np.sum((truth==1) & (prediction==0))\n",
    "\n",
    "precision = tp / (tp + fp)\n",
    "recall = tp / (tp + fn)\n",
    "accuracy = (tp + tn) / (tp + tn + fp +fn)\n",
    "\n",
    "print(f'Precision: {precision} \\nRecall: {recall} \\nAccuracy: {accuracy}')\n"
   ]
  },
  {
   "cell_type": "code",
   "execution_count": 116,
   "metadata": {
    "scrolled": false
   },
   "outputs": [
    {
     "ename": "TypeError",
     "evalue": "_argpartition_dispatcher() missing 1 required positional argument: 'kth'",
     "output_type": "error",
     "traceback": [
      "\u001b[0;31m---------------------------------------------------------------------------\u001b[0m",
      "\u001b[0;31mTypeError\u001b[0m                                 Traceback (most recent call last)",
      "\u001b[0;32m<ipython-input-116-dafed0a52f93>\u001b[0m in \u001b[0;36m<module>\u001b[0;34m\u001b[0m\n\u001b[1;32m      4\u001b[0m \u001b[0mtruth_relevance\u001b[0m \u001b[0;34m=\u001b[0m \u001b[0mnp\u001b[0m\u001b[0;34m.\u001b[0m\u001b[0marray\u001b[0m\u001b[0;34m(\u001b[0m\u001b[0;34m[\u001b[0m\u001b[0;32mTrue\u001b[0m\u001b[0;34m,\u001b[0m \u001b[0;32mFalse\u001b[0m\u001b[0;34m,\u001b[0m \u001b[0;32mTrue\u001b[0m\u001b[0;34m,\u001b[0m \u001b[0;32mFalse\u001b[0m\u001b[0;34m,\u001b[0m \u001b[0;32mTrue\u001b[0m\u001b[0;34m,\u001b[0m \u001b[0;32mTrue\u001b[0m\u001b[0;34m,\u001b[0m \u001b[0;32mTrue\u001b[0m\u001b[0;34m,\u001b[0m \u001b[0;32mFalse\u001b[0m\u001b[0;34m,\u001b[0m \u001b[0;32mFalse\u001b[0m\u001b[0;34m,\u001b[0m \u001b[0;32mFalse\u001b[0m\u001b[0;34m,\u001b[0m \u001b[0;32mFalse\u001b[0m\u001b[0;34m,\u001b[0m\u001b[0;32mTrue\u001b[0m\u001b[0;34m,\u001b[0m \u001b[0;32mFalse\u001b[0m\u001b[0;34m,\u001b[0m \u001b[0;32mFalse\u001b[0m\u001b[0;34m,\u001b[0m \u001b[0;32mTrue\u001b[0m\u001b[0;34m]\u001b[0m\u001b[0;34m)\u001b[0m\u001b[0;34m\u001b[0m\u001b[0;34m\u001b[0m\u001b[0m\n\u001b[1;32m      5\u001b[0m \u001b[0;34m\u001b[0m\u001b[0m\n\u001b[0;32m----> 6\u001b[0;31m \u001b[0mq1\u001b[0m \u001b[0;34m=\u001b[0m \u001b[0mnp\u001b[0m\u001b[0;34m.\u001b[0m\u001b[0margpartition\u001b[0m\u001b[0;34m(\u001b[0m\u001b[0mq_id\u001b[0m\u001b[0;34m)\u001b[0m\u001b[0;34m\u001b[0m\u001b[0;34m\u001b[0m\u001b[0m\n\u001b[0m\u001b[1;32m      7\u001b[0m \u001b[0mq1\u001b[0m\u001b[0;34m\u001b[0m\u001b[0;34m\u001b[0m\u001b[0m\n",
      "\u001b[0;32m<__array_function__ internals>\u001b[0m in \u001b[0;36margpartition\u001b[0;34m(*args, **kwargs)\u001b[0m\n",
      "\u001b[0;31mTypeError\u001b[0m: _argpartition_dispatcher() missing 1 required positional argument: 'kth'"
     ]
    }
   ],
   "source": [
    "# ejercicio 5\n",
    "q_id = np.array([1, 1, 1, 1, 2, 2, 2, 3, 3, 3, 3, 3, 4, 4, 4, 4])         \n",
    "predicted_rank = np.array([0, 1, 2, 3, 0, 1, 2, 0, 1, 2, 3, 4, 0, 1, 2, 3])  \n",
    "truth_relevance = np.array([True, False, True, False, True, True, True, False, False, False, False,True, False, False, True]) \n",
    "\n"
   ]
  },
  {
   "cell_type": "code",
   "execution_count": 129,
   "metadata": {
    "scrolled": true
   },
   "outputs": [
    {
     "name": "stdout",
     "output_type": "stream",
     "text": [
      "Distancia de X respecto centroide [1 0 0]: [ 3.60555128  8.36660027 13.45362405]\n",
      "Distancia de X respecto centroide [0 1 1]: [ 2.44948974  7.54983444 12.72792206]\n"
     ]
    }
   ],
   "source": [
    "# ejercicio 6\n",
    "\n",
    "X = np.array([[1, 2, 3], [4, 5, 6], [7, 8, 9]])\n",
    "C = np.array([[1, 0, 0], [0, 1, 1]])\n",
    "\n",
    "X1 = norma_lp(X - C[0], 2)\n",
    "X2 = norma_lp(X - C[1], 2)\n",
    "\n",
    "print(f'Distancia de X respecto centroide {C[0]}: {X1}')\n",
    "print(f'Distancia de X respecto centroide {C[1]}: {X2}')"
   ]
  },
  {
   "cell_type": "code",
   "execution_count": 131,
   "metadata": {},
   "outputs": [
    {
     "data": {
      "text/plain": [
       "array([1, 1, 1])"
      ]
     },
     "execution_count": 131,
     "metadata": {},
     "output_type": "execute_result"
    }
   ],
   "source": [
    "#ejercicio 7\n",
    "\n",
    "distancias = np.array([X1, X2])\n",
    "a = np.argmin(distancias, axis=0)\n",
    "a\n",
    "\n"
   ]
  },
  {
   "cell_type": "code",
   "execution_count": 161,
   "metadata": {},
   "outputs": [
    {
     "data": {
      "text/plain": [
       "array([[-0.57010393, -1.1356111 , -1.22049753],\n",
       "       [ 0.98663849,  1.11380644, -0.03842829],\n",
       "       [-0.25363107,  1.62164053, -0.43329515],\n",
       "       [ 0.39080184, -0.56725851,  1.29305127],\n",
       "       [-1.67482094, -0.04802034,  0.96541788]])"
      ]
     },
     "execution_count": 161,
     "metadata": {},
     "output_type": "execute_result"
    }
   ],
   "source": [
    "# ejercicio 8\n",
    "\n",
    "dim = 3\n",
    "samples = 1000\n",
    "N = 3*1000\n",
    "X = np.random.normal(size=N).reshape(n, dim)\n",
    "\n",
    "centroids_number = 5\n",
    "rng = np.random.default_rng(12345)\n",
    "centroids_idx = rng.integers(low=0, high=samples, size=centroids_number)\n",
    "centroids = np.take(X, centroids_idx, axis=0)\n",
    "centroids"
   ]
  },
  {
   "cell_type": "code",
   "execution_count": 156,
   "metadata": {},
   "outputs": [
    {
     "data": {
      "text/plain": [
       "array([ 0,  2,  2,  6,  7,  8,  8,  9,  9, 11, 12, 12, 13, 15, 18, 19, 20,\n",
       "       21, 21, 22, 22, 22, 24, 25, 25, 25, 26, 26, 27, 29, 31, 31, 32, 33,\n",
       "       33, 33, 33, 34, 35, 39, 39, 44, 45, 45, 46, 47, 47, 47, 49, 49, 54,\n",
       "       54, 55, 55, 56, 56, 59, 59, 60, 61, 62, 62, 63, 64, 64, 65, 66, 66,\n",
       "       67, 67, 68, 69, 69, 70, 70, 71, 72, 73, 73, 73, 74, 77, 78, 79, 80,\n",
       "       81, 83, 83, 85, 86, 88, 89, 90, 91, 92, 93, 93, 94, 94, 98])"
      ]
     },
     "execution_count": 156,
     "metadata": {},
     "output_type": "execute_result"
    }
   ],
   "source": []
  },
  {
   "cell_type": "code",
   "execution_count": null,
   "metadata": {},
   "outputs": [],
   "source": []
  }
 ],
 "metadata": {
  "colab": {
   "authorship_tag": "ABX9TyMQLf1S3B9j2kk2A/v3P+4s",
   "collapsed_sections": [],
   "name": "mariano_luzuriaga_into_inteligencia_artificial_ceia.ipynb",
   "provenance": []
  },
  "kernelspec": {
   "display_name": "Python 3",
   "language": "python",
   "name": "python3"
  },
  "language_info": {
   "codemirror_mode": {
    "name": "ipython",
    "version": 3
   },
   "file_extension": ".py",
   "mimetype": "text/x-python",
   "name": "python",
   "nbconvert_exporter": "python",
   "pygments_lexer": "ipython3",
   "version": "3.8.5"
  }
 },
 "nbformat": 4,
 "nbformat_minor": 1
}
